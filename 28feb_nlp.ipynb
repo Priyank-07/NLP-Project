{
 "cells": [
  {
   "cell_type": "code",
   "execution_count": 169,
   "metadata": {},
   "outputs": [],
   "source": [
    "import gensim\n",
    "from nltk.tokenize import word_tokenize"
   ]
  },
  {
   "cell_type": "code",
   "execution_count": 170,
   "metadata": {},
   "outputs": [],
   "source": [
    "f1=open(\"C:/Users/Priyank Kumar/Documents/nat_geo.txt\")\n"
   ]
  },
  {
   "cell_type": "code",
   "execution_count": 171,
   "metadata": {},
   "outputs": [],
   "source": [
    "gen_docs = [[w.lower() for w in word_tokenize(text)] \n",
    "            for text in f1]"
   ]
  },
  {
   "cell_type": "code",
   "execution_count": 172,
   "metadata": {},
   "outputs": [],
   "source": [
    "dictionary = gensim.corpora.Dictionary(gen_docs)"
   ]
  },
  {
   "cell_type": "code",
   "execution_count": 173,
   "metadata": {},
   "outputs": [
    {
     "name": "stdout",
     "output_type": "stream",
     "text": [
      "0 a\n",
      "1 i\n",
      "2 if\n",
      "3 is\n",
      "4 phrase\n",
      "5 prefer\n",
      "6 retire\n",
      "7 there\n",
      "8 to\n",
      "9 would\n",
      "10 ,\n",
      "11 .\n",
      "12 bios\n",
      "13 from\n",
      "14 it\n",
      "15 online\n",
      "16 or\n",
      "17 personal\n",
      "18 professional\n",
      "19 ``\n",
      "20 approximation\n",
      "21 love\n",
      "22 of\n",
      "23 sentiment\n",
      "24 some\n",
      "25 that\n",
      "26 travel\n",
      "27 am\n",
      "28 clarify\n",
      "29 notagainst\n",
      "30 profoundly\n",
      "31 those\n",
      "32 travellers\n",
      "33 who\n",
      "34 contrary\n",
      "35 editing\n",
      "36 flaunt\n",
      "37 for\n",
      "38 passion\n",
      "39 the\n",
      "40 their\n",
      "41 travel.on\n",
      "42 has\n",
      "43 made\n",
      "44 magazine\n",
      "45 meoddly\n",
      "46 now\n",
      "47 protective\n",
      "48 ''\n",
      "49 and\n",
      "50 ilk.mysubmission\n",
      "51 suggestedso\n",
      "52 adequate\n",
      "53 casually\n",
      "54 does\n",
      "55 feel\n",
      "56 just\n",
      "57 n't\n",
      "58 depth\n",
      "59 devotees\n",
      "60 emotion\n",
      "61 in\n",
      "62 sparks\n",
      "63 true\n"
     ]
    }
   ],
   "source": [
    "for i in range(len(dictionary)):\n",
    "    print(i, dictionary[i])"
   ]
  },
  {
   "cell_type": "code",
   "execution_count": 174,
   "metadata": {},
   "outputs": [],
   "source": [
    "corpus = [dictionary.doc2bow(gen_doc) for gen_doc in gen_docs]\n"
   ]
  },
  {
   "cell_type": "code",
   "execution_count": 175,
   "metadata": {},
   "outputs": [
    {
     "name": "stdout",
     "output_type": "stream",
     "text": [
      "TfidfModel(num_docs=9, num_nnz=91)\n",
      "91\n"
     ]
    }
   ],
   "source": [
    "tf_idf = gensim.models.TfidfModel(corpus)\n",
    "print(tf_idf)\n",
    "s = 0\n",
    "for i in corpus:\n",
    "    s += len(i)\n",
    "print(s)\n"
   ]
  },
  {
   "cell_type": "code",
   "execution_count": 176,
   "metadata": {},
   "outputs": [],
   "source": [
    "sims = gensim.similarities.Similarity('C:/Users/Priyank Kumar/Documents/',tf_idf[corpus],\n",
    "                                      num_features=len(dictionary))"
   ]
  },
  {
   "cell_type": "code",
   "execution_count": 177,
   "metadata": {},
   "outputs": [],
   "source": [
    "#f2=open(\"C:/Users/Priyank Kumar/Documents/nat_geo2.txt\",\"wt\")\n",
    "#f2=\"i am excited how you are\""
   ]
  },
  {
   "cell_type": "code",
   "execution_count": 178,
   "metadata": {},
   "outputs": [],
   "source": [
    "query_doc = [w.lower() for w in word_tokenize(\"One of the finer books I read this year was John Kaag's Hiking With Nietzsche, in which Kaag, a professor of philosophy,rekindles his passion for the German thinkerwhile tracing picturesque hiking trails in the mountains of Switzerland.It's a near-precise rendering of the travelogue as aself-helpbook.a young Kaag was an avowed Nietzsche acolyte but given the ravages of responsibilities and adulthood,the writer puthis affinity to test by understanding physicallyenduring hikes through the Alps,revisitinghaunts that the philosopher escaped to,insearch of solitude with huis own inner turmoil,are catnip for anybody feelings at crosspurposes with their own life.\")]"
   ]
  },
  {
   "cell_type": "code",
   "execution_count": 179,
   "metadata": {},
   "outputs": [
    {
     "name": "stdout",
     "output_type": "stream",
     "text": [
      "['one', 'of', 'the', 'finer', 'books', 'i', 'read', 'this', 'year', 'was', 'john', 'kaag', \"'s\", 'hiking', 'with', 'nietzsche', ',', 'in', 'which', 'kaag', ',', 'a', 'professor', 'of', 'philosophy', ',', 'rekindles', 'his', 'passion', 'for', 'the', 'german', 'thinkerwhile', 'tracing', 'picturesque', 'hiking', 'trails', 'in', 'the', 'mountains', 'of', 'switzerland.it', \"'s\", 'a', 'near-precise', 'rendering', 'of', 'the', 'travelogue', 'as', 'aself-helpbook.a', 'young', 'kaag', 'was', 'an', 'avowed', 'nietzsche', 'acolyte', 'but', 'given', 'the', 'ravages', 'of', 'responsibilities', 'and', 'adulthood', ',', 'the', 'writer', 'puthis', 'affinity', 'to', 'test', 'by', 'understanding', 'physicallyenduring', 'hikes', 'through', 'the', 'alps', ',', 'revisitinghaunts', 'that', 'the', 'philosopher', 'escaped', 'to', ',', 'insearch', 'of', 'solitude', 'with', 'huis', 'own', 'inner', 'turmoil', ',', 'are', 'catnip', 'for', 'anybody', 'feelings', 'at', 'crosspurposes', 'with', 'their', 'own', 'life', '.']\n",
      "[(0, 2), (1, 1), (8, 2), (10, 7), (11, 1), (22, 6), (25, 1), (37, 2), (38, 1), (39, 8), (40, 1), (49, 1), (61, 2)]\n",
      "[(0, 0.18237638621873523), (1, 0.06660592715914164), (8, 0.09832906380090384), (10, 0.24945154295091623), (11, 0.06660592715914164), (22, 0.39963556295484987), (25, 0.09118819310936761), (37, 0.26642370863656656), (38, 0.13321185431828328), (39, 0.7295055448749409), (40, 0.09118819310936761), (49, 0.13321185431828328), (61, 0.26642370863656656)]\n"
     ]
    }
   ],
   "source": [
    "print(query_doc)\n",
    "query_doc_bow = dictionary.doc2bow(query_doc)\n",
    "print(query_doc_bow)\n",
    "query_doc_tf_idf = tf_idf[query_doc_bow]\n",
    "print(query_doc_tf_idf)"
   ]
  },
  {
   "cell_type": "code",
   "execution_count": 180,
   "metadata": {},
   "outputs": [
    {
     "data": {
      "text/plain": [
       "array([0.072946  , 0.06538671, 0.12957412, 0.05088888, 0.41477835,\n",
       "       0.07708948, 0.14073962, 0.23313673, 0.18923512], dtype=float32)"
      ]
     },
     "execution_count": 180,
     "metadata": {},
     "output_type": "execute_result"
    }
   ],
   "source": [
    "sims[query_doc_tf_idf]"
   ]
  },
  {
   "cell_type": "code",
   "execution_count": null,
   "metadata": {},
   "outputs": [],
   "source": []
  }
 ],
 "metadata": {
  "kernelspec": {
   "display_name": "Python 3",
   "language": "python",
   "name": "python3"
  },
  "language_info": {
   "codemirror_mode": {
    "name": "ipython",
    "version": 3
   },
   "file_extension": ".py",
   "mimetype": "text/x-python",
   "name": "python",
   "nbconvert_exporter": "python",
   "pygments_lexer": "ipython3",
   "version": "3.7.0"
  }
 },
 "nbformat": 4,
 "nbformat_minor": 2
}
